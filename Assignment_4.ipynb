{
 "cells": [
  {
   "cell_type": "markdown",
   "metadata": {},
   "source": [
    "1.1 Write a Python Program(with class concepts) to find the area of the triangle using the below\n",
    "formula.\n",
    "area = (s*(s-a)*(s-b)*(s-c)) ** 0.5"
   ]
  },
  {
   "cell_type": "code",
   "execution_count": 1,
   "metadata": {},
   "outputs": [
    {
     "name": "stdout",
     "output_type": "stream",
     "text": [
      "a = 10\n",
      "b = 12\n",
      "c = 14\n",
      "area : 58.787753826796276\n"
     ]
    }
   ],
   "source": [
    "class poly:\n",
    "    def __init__(self, a, b, c):\n",
    "        self.a = float(a)\n",
    "        self.b = float(b)\n",
    "        self.c = float(c)\n",
    "        self.area = 0\n",
    "\n",
    "class triangle(poly):\n",
    "    def __init__(self, a, b, c):\n",
    "        poly.__init__(self, a, b, c)\n",
    "\n",
    "    def calculate_area(self):\n",
    "        s = (self.a + self.b + self.c) / 2\n",
    "        self.area = float((s * (s - self.a) * (s - self.b) * (s - self.c))) ** 0.5\n",
    "\n",
    "    def get_area(self):\n",
    "        return self.area     \n",
    "\n",
    "a, b, c = input(\"a = \"), input(\"b = \"), input(\"c = \")\n",
    "\n",
    "t = triangle(a, b, c)\n",
    "t.calculate_area()\n",
    "print(\"area : {}\".format(t.get_area()))"
   ]
  },
  {
   "cell_type": "markdown",
   "metadata": {},
   "source": [
    "1.2 Write a function filter_long_words() that takes a list of words and an integer n and returns\n",
    "the list of words that are longer than n."
   ]
  },
  {
   "cell_type": "code",
   "execution_count": 27,
   "metadata": {},
   "outputs": [
    {
     "name": "stdout",
     "output_type": "stream",
     "text": [
      "Enter the list: deeplearning c++ c# java python\n",
      "Enter the length of words: 4\n",
      "The list of words greater than the integer is ['deeplearning', 'python']\n"
     ]
    }
   ],
   "source": [
    "def filter_long_words(num_list,length):\n",
    "    new_list = []\n",
    "    for i in range(len(num_list)):\n",
    "        if len(num_list[i])>length:\n",
    "            new_list.append(num_list[i])\n",
    "    return new_list\n",
    "            \n",
    "def main():\n",
    "    words = input(\"Enter the list: \").split()\n",
    "    length = int(input(\"Enter the length of words: \"))\n",
    "    newList = filter_long_words(words,length)\n",
    "    print(\"The list of words greater than the integer is\", newList)\n",
    "\n",
    "main()"
   ]
  },
  {
   "cell_type": "markdown",
   "metadata": {},
   "source": [
    "2.1 Write a Python program using function concept that maps list of words into a list of integers\n",
    "representing the lengths of the corresponding words.\n",
    "Hint: If a list [ ab,cde,erty] is passed on to the python function output should come as [2,3,4]\n",
    "Here 2,3 and 4 are the lengths of the words in the list."
   ]
  },
  {
   "cell_type": "code",
   "execution_count": 19,
   "metadata": {},
   "outputs": [
    {
     "name": "stdout",
     "output_type": "stream",
     "text": [
      "List of words into a list of integers:  [2, 3, 4]\n"
     ]
    }
   ],
   "source": [
    "word_list = ['ab','cde','erty']\n",
    "\n",
    "def word(word_list):\n",
    "    return list(map(lambda x : len(x),word_list))\n",
    "print(\"List of words into a list of integers: \", str(word(word_list)))"
   ]
  },
  {
   "cell_type": "markdown",
   "metadata": {},
   "source": [
    "2.2 Write a Python function which takes a character (i.e. a string of length 1) and returns True if\n",
    "it is a vowel, False otherwise."
   ]
  },
  {
   "cell_type": "code",
   "execution_count": 25,
   "metadata": {},
   "outputs": [],
   "source": [
    "def vowel(char):\n",
    "    if char.lower() in 'aeiou':\n",
    "        return True\n",
    "    if char.upper() in 'AEIOU':\n",
    "        return TRUE\n",
    "    else:\n",
    "        return False"
   ]
  },
  {
   "cell_type": "code",
   "execution_count": 26,
   "metadata": {},
   "outputs": [
    {
     "data": {
      "text/plain": [
       "False"
      ]
     },
     "execution_count": 26,
     "metadata": {},
     "output_type": "execute_result"
    }
   ],
   "source": [
    "vowel(c)"
   ]
  },
  {
   "cell_type": "code",
   "execution_count": null,
   "metadata": {},
   "outputs": [],
   "source": []
  }
 ],
 "metadata": {
  "kernelspec": {
   "display_name": "Python 3",
   "language": "python",
   "name": "python3"
  },
  "language_info": {
   "codemirror_mode": {
    "name": "ipython",
    "version": 3
   },
   "file_extension": ".py",
   "mimetype": "text/x-python",
   "name": "python",
   "nbconvert_exporter": "python",
   "pygments_lexer": "ipython3",
   "version": "3.7.6"
  }
 },
 "nbformat": 4,
 "nbformat_minor": 4
}
